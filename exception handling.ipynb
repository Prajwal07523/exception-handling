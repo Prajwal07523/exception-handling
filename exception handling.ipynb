{
 "cells": [
  {
   "cell_type": "code",
   "execution_count": 1,
   "id": "fcb9be7b-501b-4c27-8e28-02df738bf044",
   "metadata": {},
   "outputs": [],
   "source": [
    "# Q1. What is an Exception in python? Write the difference between Exceptions and syntax errors"
   ]
  },
  {
   "cell_type": "code",
   "execution_count": 2,
   "id": "6ea94479-9486-4782-8c20-736012aabf1c",
   "metadata": {},
   "outputs": [],
   "source": [
    "#an exception is an event that occurs during the execution of a program, which disrupts the normal flow of the program's instructions.\n",
    "# Exceptions are typically raised by the program in response to unexpected conditions, such as input/output errors, division by zero, or undefined variables\n",
    "# Syntax errors, on the other hand, occur when the Python interpreter is unable to understand the program's code due to violations of the language's syntax rules."
   ]
  },
  {
   "cell_type": "code",
   "execution_count": 3,
   "id": "aad5563b-995d-43aa-bbc0-1a31c048089f",
   "metadata": {},
   "outputs": [],
   "source": [
    "#Q2. What happens when an exception is not handled? Explain with an example"
   ]
  },
  {
   "cell_type": "code",
   "execution_count": 5,
   "id": "2e938faa-ad57-46c1-9b17-f70518299c72",
   "metadata": {},
   "outputs": [
    {
     "ename": "ZeroDivisionError",
     "evalue": "division by zero",
     "output_type": "error",
     "traceback": [
      "\u001b[0;31m---------------------------------------------------------------------------\u001b[0m",
      "\u001b[0;31mZeroDivisionError\u001b[0m                         Traceback (most recent call last)",
      "Cell \u001b[0;32mIn[5], line 5\u001b[0m\n\u001b[1;32m      2\u001b[0m     r\u001b[38;5;241m=\u001b[39ma\u001b[38;5;241m/\u001b[39mb\n\u001b[1;32m      3\u001b[0m     \u001b[38;5;28mprint\u001b[39m(r)\n\u001b[0;32m----> 5\u001b[0m \u001b[43mdivide\u001b[49m\u001b[43m(\u001b[49m\u001b[38;5;241;43m10\u001b[39;49m\u001b[43m,\u001b[49m\u001b[38;5;241;43m0\u001b[39;49m\u001b[43m)\u001b[49m\n\u001b[1;32m      6\u001b[0m \u001b[38;5;66;03m#the division operation will result in a \"ZeroDivisionError\" exception.\u001b[39;00m\n",
      "Cell \u001b[0;32mIn[5], line 2\u001b[0m, in \u001b[0;36mdivide\u001b[0;34m(a, b)\u001b[0m\n\u001b[1;32m      1\u001b[0m \u001b[38;5;28;01mdef\u001b[39;00m \u001b[38;5;21mdivide\u001b[39m(a,b):\n\u001b[0;32m----> 2\u001b[0m     r\u001b[38;5;241m=\u001b[39m\u001b[43ma\u001b[49m\u001b[38;5;241;43m/\u001b[39;49m\u001b[43mb\u001b[49m\n\u001b[1;32m      3\u001b[0m     \u001b[38;5;28mprint\u001b[39m(r)\n",
      "\u001b[0;31mZeroDivisionError\u001b[0m: division by zero"
     ]
    }
   ],
   "source": [
    "def divide(a,b):\n",
    "    r=a/b\n",
    "    print(r)\n",
    "    \n",
    "divide(10,0)\n",
    "#the division operation will result in a \"ZeroDivisionError\" exception."
   ]
  },
  {
   "cell_type": "code",
   "execution_count": 6,
   "id": "2d480395-f140-4a91-be9a-2a2018a3c280",
   "metadata": {},
   "outputs": [],
   "source": [
    "# Q3. Which Python statements are used to catch and handle exceptions explain with an example"
   ]
  },
  {
   "cell_type": "code",
   "execution_count": 10,
   "id": "0d377af8-e629-4a61-b7d1-6e57584545ad",
   "metadata": {},
   "outputs": [
    {
     "name": "stdout",
     "output_type": "stream",
     "text": [
      "Error: division by zero\n"
     ]
    }
   ],
   "source": [
    " #In Python, the \"try\" and \"except\" statements are used to catch and handle exceptions.\n",
    "def divide(a,b):\n",
    "    try:\n",
    "        r=a/b\n",
    "        print(r)\n",
    "    except ZeroDivisionError:\n",
    "        print(\"Error: division by zero\")\n",
    "    \n",
    "divide(10,0)"
   ]
  },
  {
   "cell_type": "code",
   "execution_count": null,
   "id": "df917445-baea-46dc-8827-1c5142729a0d",
   "metadata": {},
   "outputs": [],
   "source": [
    "def divide(a, b):\n",
    "    try:\n",
    "        result = a / b\n",
    "        print(result)\n",
    "    finally:\n",
    "        print(\"Cleaning up\")\n",
    "\n",
    "    if b == 0:\n",
    "        raise ValueError(\"Division by zero\")\n",
    "\n",
    "divide(10, 0)\n"
   ]
  },
  {
   "cell_type": "code",
   "execution_count": 12,
   "id": "7d25e647-e82a-4dd0-b873-8697a30385c5",
   "metadata": {},
   "outputs": [],
   "source": [
    "# Q5. What are Custom Exceptions in python? What do we need Custom Exceptions? Explain with an example"
   ]
  },
  {
   "cell_type": "code",
   "execution_count": 13,
   "id": "510e23e3-f75e-463f-8b6a-597b31dc3367",
   "metadata": {},
   "outputs": [],
   "source": [
    "# In Python, custom exceptions are user-defined exceptions that can be created by inheriting from the built-in \"Exception\" class\n",
    " # or one of its subclasses. Custom exceptions can be used to represent specific error conditions or unexpected behaviors that are \n",
    "#   unique to a particular application or module.\n",
    "\n"
   ]
  },
  {
   "cell_type": "code",
   "execution_count": 14,
   "id": "ac5da37d-d665-49aa-836f-def3245a0c21",
   "metadata": {},
   "outputs": [
    {
     "name": "stdout",
     "output_type": "stream",
     "text": [
      "Caught an InvalidInputError: Input value must be an integer\n"
     ]
    }
   ],
   "source": [
    "class InvalidInputError(Exception):\n",
    "    pass\n",
    "\n",
    "def validate_input(input_value):\n",
    "    if not isinstance(input_value, int):\n",
    "        raise InvalidInputError(\"Input value must be an integer\")\n",
    "\n",
    "try:\n",
    "    validate_input(\"not an integer\")\n",
    "except InvalidInputError as e:\n",
    "    print(f\"Caught an InvalidInputError: {e}\")\n"
   ]
  },
  {
   "cell_type": "code",
   "execution_count": null,
   "id": "186e9cf6-15e6-4fb3-a8c8-75e2db103183",
   "metadata": {},
   "outputs": [],
   "source": []
  }
 ],
 "metadata": {
  "kernelspec": {
   "display_name": "Python 3 (ipykernel)",
   "language": "python",
   "name": "python3"
  },
  "language_info": {
   "codemirror_mode": {
    "name": "ipython",
    "version": 3
   },
   "file_extension": ".py",
   "mimetype": "text/x-python",
   "name": "python",
   "nbconvert_exporter": "python",
   "pygments_lexer": "ipython3",
   "version": "3.10.8"
  }
 },
 "nbformat": 4,
 "nbformat_minor": 5
}
